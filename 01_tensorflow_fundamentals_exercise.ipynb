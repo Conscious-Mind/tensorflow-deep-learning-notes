{
  "nbformat": 4,
  "nbformat_minor": 0,
  "metadata": {
    "colab": {
      "name": "01-tensorflow-fundamentals-exercise.ipynb",
      "provenance": [],
      "collapsed_sections": [
        "YtY07ltgNny6",
        "96l9Q5iKO8q4",
        "rBDKSBLWalth"
      ],
      "authorship_tag": "ABX9TyPfgh+w2weJUIEhZLS4fnNx",
      "include_colab_link": true
    },
    "kernelspec": {
      "name": "python3",
      "display_name": "Python 3"
    },
    "language_info": {
      "name": "python"
    }
  },
  "cells": [
    {
      "cell_type": "markdown",
      "metadata": {
        "id": "view-in-github",
        "colab_type": "text"
      },
      "source": [
        "<a href=\"https://colab.research.google.com/github/Conscious-Mind/tensorflow-deep-learning-notes/blob/main/01_tensorflow_fundamentals_exercise.ipynb\" target=\"_parent\"><img src=\"https://colab.research.google.com/assets/colab-badge.svg\" alt=\"Open In Colab\"/></a>"
      ]
    },
    {
      "cell_type": "markdown",
      "source": [
        "# 🛠 Exercises"
      ],
      "metadata": {
        "id": "1-WtyujULsY0"
      }
    },
    {
      "cell_type": "markdown",
      "source": [
        "##1. Create a vector, scalar, matrix and tensor with values of your choosing using tf.constant()."
      ],
      "metadata": {
        "id": "YtY07ltgNny6"
      }
    },
    {
      "cell_type": "code",
      "source": [
        "import tensorflow as tf"
      ],
      "metadata": {
        "id": "EYq08JkuOHSI"
      },
      "execution_count": null,
      "outputs": []
    },
    {
      "cell_type": "code",
      "source": [
        "scalar_a = tf.constant(11)"
      ],
      "metadata": {
        "id": "-EmqAoQ1NulC"
      },
      "execution_count": null,
      "outputs": []
    },
    {
      "cell_type": "code",
      "source": [
        "vector_a = tf.constant([12, 13]) "
      ],
      "metadata": {
        "id": "yY3cdhMVOPcI"
      },
      "execution_count": null,
      "outputs": []
    },
    {
      "cell_type": "code",
      "source": [
        "matrix_a = tf.constant([[15, 16],\n",
        "                        [17,18]])"
      ],
      "metadata": {
        "id": "Fvtt46TVOYlI"
      },
      "execution_count": null,
      "outputs": []
    },
    {
      "cell_type": "code",
      "source": [
        "tensor_a = tf.constant([[[21, 22, 23],\n",
        "                         [24, 25, 26],\n",
        "                         [27, 28, 29]]])"
      ],
      "metadata": {
        "id": "pFhJ6-qoOnpQ"
      },
      "execution_count": null,
      "outputs": []
    },
    {
      "cell_type": "markdown",
      "source": [
        "##2. Find the shape, rank and size of the tensors you created in 1."
      ],
      "metadata": {
        "id": "96l9Q5iKO8q4"
      }
    },
    {
      "cell_type": "code",
      "source": [
        "def print_values(name_of_tensor):\n",
        "  print(f\"The tensor is : {name_of_tensor.numpy()}\")\n",
        "  print(f\"Datatype of every element: {name_of_tensor.dtype}\")\n",
        "  print(f\"Number of dimensions(rank): {name_of_tensor.ndim}\")\n",
        "  print(f\"Shape of tensor: {name_of_tensor.shape}\")\n",
        "  print(f\"Size of tensor: {tf.size(name_of_tensor).numpy()}\")"
      ],
      "metadata": {
        "id": "oVDgcflWXfHJ"
      },
      "execution_count": 16,
      "outputs": []
    },
    {
      "cell_type": "code",
      "source": [
        "print_values(scalar_a)"
      ],
      "metadata": {
        "colab": {
          "base_uri": "https://localhost:8080/"
        },
        "id": "p743TypSUo05",
        "outputId": "b8404986-5196-471b-d536-33e54d91dd94"
      },
      "execution_count": 17,
      "outputs": [
        {
          "output_type": "stream",
          "name": "stdout",
          "text": [
            "The tensor is : 11\n",
            "Datatype of every element: <dtype: 'int32'>\n",
            "Number of dimensions(rank): 0\n",
            "Shape of tensor: ()\n",
            "Size of tensor: 1\n"
          ]
        }
      ]
    },
    {
      "cell_type": "code",
      "source": [
        "print_values(vector_a)"
      ],
      "metadata": {
        "id": "1MALJSzKU5zA",
        "colab": {
          "base_uri": "https://localhost:8080/"
        },
        "outputId": "a1269482-90e8-43be-ab17-2fd8bb937167"
      },
      "execution_count": 18,
      "outputs": [
        {
          "output_type": "stream",
          "name": "stdout",
          "text": [
            "The tensor is : [12 13]\n",
            "Datatype of every element: <dtype: 'int32'>\n",
            "Number of dimensions(rank): 1\n",
            "Shape of tensor: (2,)\n",
            "Size of tensor: 2\n"
          ]
        }
      ]
    },
    {
      "cell_type": "code",
      "source": [
        "print_values(matrix_a)"
      ],
      "metadata": {
        "colab": {
          "base_uri": "https://localhost:8080/"
        },
        "id": "lsZ37_osabaK",
        "outputId": "c9a9994d-026f-44a4-bf44-abe33bdca5f2"
      },
      "execution_count": 19,
      "outputs": [
        {
          "output_type": "stream",
          "name": "stdout",
          "text": [
            "The tensor is : [[15 16]\n",
            " [17 18]]\n",
            "Datatype of every element: <dtype: 'int32'>\n",
            "Number of dimensions(rank): 2\n",
            "Shape of tensor: (2, 2)\n",
            "Size of tensor: 4\n"
          ]
        }
      ]
    },
    {
      "cell_type": "code",
      "source": [
        "print_values(tensor_a)"
      ],
      "metadata": {
        "colab": {
          "base_uri": "https://localhost:8080/"
        },
        "id": "EY_AUp1aafTk",
        "outputId": "92dfeb8e-b92e-4c8d-d17d-b169bb95e774"
      },
      "execution_count": 20,
      "outputs": [
        {
          "output_type": "stream",
          "name": "stdout",
          "text": [
            "The tensor is : [[[21 22 23]\n",
            "  [24 25 26]\n",
            "  [27 28 29]]]\n",
            "Datatype of every element: <dtype: 'int32'>\n",
            "Number of dimensions(rank): 3\n",
            "Shape of tensor: (1, 3, 3)\n",
            "Size of tensor: 9\n"
          ]
        }
      ]
    },
    {
      "cell_type": "markdown",
      "source": [
        "## 3. Create two tensors containing random values between 0 and 1 with shape [5, 300]."
      ],
      "metadata": {
        "id": "rBDKSBLWalth"
      }
    },
    {
      "cell_type": "code",
      "source": [
        "tf.random.set_seed(47)\n",
        "first_tensor = tf.random.uniform(shape=[50, 300], minval=0, maxval=1, seed=11)\n",
        "second_tensor = tf.random.uniform(shape=[50, 300], minval=0, maxval=1, seed=12)"
      ],
      "metadata": {
        "id": "yiEQFdM6ayot"
      },
      "execution_count": 25,
      "outputs": []
    },
    {
      "cell_type": "code",
      "source": [
        "first_tensor, second_tensor"
      ],
      "metadata": {
        "colab": {
          "base_uri": "https://localhost:8080/"
        },
        "id": "oUY-OOC3dfTD",
        "outputId": "827718d9-8ab4-4878-cf14-7fb475d2a9ae"
      },
      "execution_count": 26,
      "outputs": [
        {
          "output_type": "execute_result",
          "data": {
            "text/plain": [
              "(<tf.Tensor: shape=(50, 300), dtype=float32, numpy=\n",
              " array([[0.20114136, 0.22116268, 0.03055823, ..., 0.6479955 , 0.24345875,\n",
              "         0.55817306],\n",
              "        [0.08203161, 0.91801786, 0.18279874, ..., 0.82339203, 0.7164252 ,\n",
              "         0.6833383 ],\n",
              "        [0.08142698, 0.47079968, 0.12099791, ..., 0.85748553, 0.11779356,\n",
              "         0.8613566 ],\n",
              "        ...,\n",
              "        [0.3960414 , 0.07969427, 0.48562074, ..., 0.43517935, 0.747736  ,\n",
              "         0.31693983],\n",
              "        [0.15113425, 0.62690485, 0.8805834 , ..., 0.5633352 , 0.65710366,\n",
              "         0.76615167],\n",
              "        [0.3290094 , 0.147174  , 0.59196794, ..., 0.7819625 , 0.452762  ,\n",
              "         0.20070887]], dtype=float32)>,\n",
              " <tf.Tensor: shape=(50, 300), dtype=float32, numpy=\n",
              " array([[0.5152817 , 0.5063466 , 0.4255557 , ..., 0.24335611, 0.7606361 ,\n",
              "         0.10213459],\n",
              "        [0.9413791 , 0.78918076, 0.6985786 , ..., 0.6030663 , 0.29711366,\n",
              "         0.05451024],\n",
              "        [0.27447534, 0.02475142, 0.5281733 , ..., 0.9312116 , 0.01547956,\n",
              "         0.49723864],\n",
              "        ...,\n",
              "        [0.46345448, 0.518108  , 0.21708417, ..., 0.4767661 , 0.94065595,\n",
              "         0.5891403 ],\n",
              "        [0.9858856 , 0.84274065, 0.5400373 , ..., 0.58284545, 0.67158866,\n",
              "         0.77263474],\n",
              "        [0.25059736, 0.48422086, 0.7355219 , ..., 0.21496081, 0.5261078 ,\n",
              "         0.21974587]], dtype=float32)>)"
            ]
          },
          "metadata": {},
          "execution_count": 26
        }
      ]
    },
    {
      "cell_type": "markdown",
      "source": [
        "## 4. Multiply the two tensors you created in 3 using matrix multiplication."
      ],
      "metadata": {
        "id": "GfiC8_fmb5hy"
      }
    },
    {
      "cell_type": "code",
      "source": [
        "tf.matmul(first_tensor, tf.reshape(second_tensor, shape=(300, 50)))"
      ],
      "metadata": {
        "colab": {
          "base_uri": "https://localhost:8080/"
        },
        "id": "y7RcHKWydeDh",
        "outputId": "edc45298-ea3a-40de-ff0f-0d37ab8cdf5b"
      },
      "execution_count": 28,
      "outputs": [
        {
          "output_type": "execute_result",
          "data": {
            "text/plain": [
              "<tf.Tensor: shape=(50, 50), dtype=float32, numpy=\n",
              "array([[72.467834, 72.796875, 74.23915 , ..., 75.80961 , 78.640396,\n",
              "        73.099304],\n",
              "       [71.958206, 69.0612  , 73.66878 , ..., 71.48905 , 72.50463 ,\n",
              "        67.963455],\n",
              "       [75.19321 , 72.49446 , 74.95793 , ..., 76.25321 , 79.935715,\n",
              "        72.98065 ],\n",
              "       ...,\n",
              "       [70.70889 , 69.558235, 71.97703 , ..., 72.378555, 74.66792 ,\n",
              "        70.31729 ],\n",
              "       [77.708786, 73.83981 , 81.59365 , ..., 78.77956 , 79.79515 ,\n",
              "        77.95198 ],\n",
              "       [72.737274, 71.07864 , 72.29835 , ..., 73.45082 , 74.2505  ,\n",
              "        70.37079 ]], dtype=float32)>"
            ]
          },
          "metadata": {},
          "execution_count": 28
        }
      ]
    },
    {
      "cell_type": "markdown",
      "source": [
        "## 5. Multiply the two tensors you created in 3 using dot product."
      ],
      "metadata": {
        "id": "-gdMKVWBeKsB"
      }
    },
    {
      "cell_type": "code",
      "source": [
        "tf.tensordot(first_tensor, tf.reshape(second_tensor, shape=(300, 50)), axes=1)"
      ],
      "metadata": {
        "colab": {
          "base_uri": "https://localhost:8080/"
        },
        "id": "P5IkJ_5be0hS",
        "outputId": "ebd3b668-9700-4f88-a40d-5b979330f132"
      },
      "execution_count": 29,
      "outputs": [
        {
          "output_type": "execute_result",
          "data": {
            "text/plain": [
              "<tf.Tensor: shape=(50, 50), dtype=float32, numpy=\n",
              "array([[72.467834, 72.796875, 74.23915 , ..., 75.80961 , 78.640396,\n",
              "        73.099304],\n",
              "       [71.958206, 69.0612  , 73.66878 , ..., 71.48905 , 72.50463 ,\n",
              "        67.963455],\n",
              "       [75.19321 , 72.49446 , 74.95793 , ..., 76.25321 , 79.935715,\n",
              "        72.98065 ],\n",
              "       ...,\n",
              "       [70.70889 , 69.558235, 71.97703 , ..., 72.378555, 74.66792 ,\n",
              "        70.31729 ],\n",
              "       [77.708786, 73.83981 , 81.59365 , ..., 78.77956 , 79.79515 ,\n",
              "        77.95198 ],\n",
              "       [72.737274, 71.07864 , 72.29835 , ..., 73.45082 , 74.2505  ,\n",
              "        70.37079 ]], dtype=float32)>"
            ]
          },
          "metadata": {},
          "execution_count": 29
        }
      ]
    },
    {
      "cell_type": "code",
      "source": [
        ""
      ],
      "metadata": {
        "id": "KjZvCiprfI2z"
      },
      "execution_count": null,
      "outputs": []
    }
  ]
}