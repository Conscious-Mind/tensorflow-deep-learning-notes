{
  "nbformat": 4,
  "nbformat_minor": 0,
  "metadata": {
    "colab": {
      "name": "01-tensorflow-fundamentals-exercise.ipynb",
      "provenance": [],
      "collapsed_sections": [
        "YtY07ltgNny6",
        "96l9Q5iKO8q4",
        "rBDKSBLWalth",
        "GfiC8_fmb5hy",
        "-gdMKVWBeKsB",
        "KjZvCiprfI2z",
        "1PEu5acKgKfp"
      ],
      "authorship_tag": "ABX9TyMwYPdmtcWwzDW4dfmnOcO/",
      "include_colab_link": true
    },
    "kernelspec": {
      "name": "python3",
      "display_name": "Python 3"
    },
    "language_info": {
      "name": "python"
    }
  },
  "cells": [
    {
      "cell_type": "markdown",
      "metadata": {
        "id": "view-in-github",
        "colab_type": "text"
      },
      "source": [
        "<a href=\"https://colab.research.google.com/github/Conscious-Mind/tensorflow-deep-learning-notes/blob/main/01_tensorflow_fundamentals_exercise.ipynb\" target=\"_parent\"><img src=\"https://colab.research.google.com/assets/colab-badge.svg\" alt=\"Open In Colab\"/></a>"
      ]
    },
    {
      "cell_type": "markdown",
      "source": [
        "# 🛠 Exercises"
      ],
      "metadata": {
        "id": "1-WtyujULsY0"
      }
    },
    {
      "cell_type": "markdown",
      "source": [
        "##1. Create a vector, scalar, matrix and tensor with values of your choosing using tf.constant()."
      ],
      "metadata": {
        "id": "YtY07ltgNny6"
      }
    },
    {
      "cell_type": "code",
      "source": [
        "import tensorflow as tf"
      ],
      "metadata": {
        "id": "EYq08JkuOHSI"
      },
      "execution_count": null,
      "outputs": []
    },
    {
      "cell_type": "code",
      "source": [
        "scalar_a = tf.constant(11)"
      ],
      "metadata": {
        "id": "-EmqAoQ1NulC"
      },
      "execution_count": null,
      "outputs": []
    },
    {
      "cell_type": "code",
      "source": [
        "vector_a = tf.constant([12, 13]) "
      ],
      "metadata": {
        "id": "yY3cdhMVOPcI"
      },
      "execution_count": null,
      "outputs": []
    },
    {
      "cell_type": "code",
      "source": [
        "matrix_a = tf.constant([[15, 16],\n",
        "                        [17,18]])"
      ],
      "metadata": {
        "id": "Fvtt46TVOYlI"
      },
      "execution_count": null,
      "outputs": []
    },
    {
      "cell_type": "code",
      "source": [
        "tensor_a = tf.constant([[[21, 22, 23],\n",
        "                         [24, 25, 26],\n",
        "                         [27, 28, 29]]])"
      ],
      "metadata": {
        "id": "pFhJ6-qoOnpQ"
      },
      "execution_count": null,
      "outputs": []
    },
    {
      "cell_type": "markdown",
      "source": [
        "##2. Find the shape, rank and size of the tensors you created in 1."
      ],
      "metadata": {
        "id": "96l9Q5iKO8q4"
      }
    },
    {
      "cell_type": "code",
      "source": [
        "def print_values(name_of_tensor):\n",
        "  print(f\"The tensor is : {name_of_tensor.numpy()}\")\n",
        "  print(f\"Datatype of every element: {name_of_tensor.dtype}\")\n",
        "  print(f\"Number of dimensions(rank): {name_of_tensor.ndim}\")\n",
        "  print(f\"Shape of tensor: {name_of_tensor.shape}\")\n",
        "  print(f\"Size of tensor: {tf.size(name_of_tensor).numpy()}\")"
      ],
      "metadata": {
        "id": "oVDgcflWXfHJ"
      },
      "execution_count": 16,
      "outputs": []
    },
    {
      "cell_type": "code",
      "source": [
        "print_values(scalar_a)"
      ],
      "metadata": {
        "colab": {
          "base_uri": "https://localhost:8080/"
        },
        "id": "p743TypSUo05",
        "outputId": "b8404986-5196-471b-d536-33e54d91dd94"
      },
      "execution_count": 17,
      "outputs": [
        {
          "output_type": "stream",
          "name": "stdout",
          "text": [
            "The tensor is : 11\n",
            "Datatype of every element: <dtype: 'int32'>\n",
            "Number of dimensions(rank): 0\n",
            "Shape of tensor: ()\n",
            "Size of tensor: 1\n"
          ]
        }
      ]
    },
    {
      "cell_type": "code",
      "source": [
        "print_values(vector_a)"
      ],
      "metadata": {
        "id": "1MALJSzKU5zA",
        "colab": {
          "base_uri": "https://localhost:8080/"
        },
        "outputId": "a1269482-90e8-43be-ab17-2fd8bb937167"
      },
      "execution_count": 18,
      "outputs": [
        {
          "output_type": "stream",
          "name": "stdout",
          "text": [
            "The tensor is : [12 13]\n",
            "Datatype of every element: <dtype: 'int32'>\n",
            "Number of dimensions(rank): 1\n",
            "Shape of tensor: (2,)\n",
            "Size of tensor: 2\n"
          ]
        }
      ]
    },
    {
      "cell_type": "code",
      "source": [
        "print_values(matrix_a)"
      ],
      "metadata": {
        "colab": {
          "base_uri": "https://localhost:8080/"
        },
        "id": "lsZ37_osabaK",
        "outputId": "c9a9994d-026f-44a4-bf44-abe33bdca5f2"
      },
      "execution_count": 19,
      "outputs": [
        {
          "output_type": "stream",
          "name": "stdout",
          "text": [
            "The tensor is : [[15 16]\n",
            " [17 18]]\n",
            "Datatype of every element: <dtype: 'int32'>\n",
            "Number of dimensions(rank): 2\n",
            "Shape of tensor: (2, 2)\n",
            "Size of tensor: 4\n"
          ]
        }
      ]
    },
    {
      "cell_type": "code",
      "source": [
        "print_values(tensor_a)"
      ],
      "metadata": {
        "colab": {
          "base_uri": "https://localhost:8080/"
        },
        "id": "EY_AUp1aafTk",
        "outputId": "92dfeb8e-b92e-4c8d-d17d-b169bb95e774"
      },
      "execution_count": 20,
      "outputs": [
        {
          "output_type": "stream",
          "name": "stdout",
          "text": [
            "The tensor is : [[[21 22 23]\n",
            "  [24 25 26]\n",
            "  [27 28 29]]]\n",
            "Datatype of every element: <dtype: 'int32'>\n",
            "Number of dimensions(rank): 3\n",
            "Shape of tensor: (1, 3, 3)\n",
            "Size of tensor: 9\n"
          ]
        }
      ]
    },
    {
      "cell_type": "markdown",
      "source": [
        "## 3. Create two tensors containing random values between 0 and 1 with shape [5, 300]."
      ],
      "metadata": {
        "id": "rBDKSBLWalth"
      }
    },
    {
      "cell_type": "code",
      "source": [
        "tf.random.set_seed(47)\n",
        "first_tensor = tf.random.uniform(shape=[50, 300], minval=0, maxval=1, seed=11)\n",
        "second_tensor = tf.random.uniform(shape=[50, 300], minval=0, maxval=1, seed=12)"
      ],
      "metadata": {
        "id": "yiEQFdM6ayot"
      },
      "execution_count": 25,
      "outputs": []
    },
    {
      "cell_type": "code",
      "source": [
        "first_tensor, second_tensor"
      ],
      "metadata": {
        "colab": {
          "base_uri": "https://localhost:8080/"
        },
        "id": "oUY-OOC3dfTD",
        "outputId": "827718d9-8ab4-4878-cf14-7fb475d2a9ae"
      },
      "execution_count": 26,
      "outputs": [
        {
          "output_type": "execute_result",
          "data": {
            "text/plain": [
              "(<tf.Tensor: shape=(50, 300), dtype=float32, numpy=\n",
              " array([[0.20114136, 0.22116268, 0.03055823, ..., 0.6479955 , 0.24345875,\n",
              "         0.55817306],\n",
              "        [0.08203161, 0.91801786, 0.18279874, ..., 0.82339203, 0.7164252 ,\n",
              "         0.6833383 ],\n",
              "        [0.08142698, 0.47079968, 0.12099791, ..., 0.85748553, 0.11779356,\n",
              "         0.8613566 ],\n",
              "        ...,\n",
              "        [0.3960414 , 0.07969427, 0.48562074, ..., 0.43517935, 0.747736  ,\n",
              "         0.31693983],\n",
              "        [0.15113425, 0.62690485, 0.8805834 , ..., 0.5633352 , 0.65710366,\n",
              "         0.76615167],\n",
              "        [0.3290094 , 0.147174  , 0.59196794, ..., 0.7819625 , 0.452762  ,\n",
              "         0.20070887]], dtype=float32)>,\n",
              " <tf.Tensor: shape=(50, 300), dtype=float32, numpy=\n",
              " array([[0.5152817 , 0.5063466 , 0.4255557 , ..., 0.24335611, 0.7606361 ,\n",
              "         0.10213459],\n",
              "        [0.9413791 , 0.78918076, 0.6985786 , ..., 0.6030663 , 0.29711366,\n",
              "         0.05451024],\n",
              "        [0.27447534, 0.02475142, 0.5281733 , ..., 0.9312116 , 0.01547956,\n",
              "         0.49723864],\n",
              "        ...,\n",
              "        [0.46345448, 0.518108  , 0.21708417, ..., 0.4767661 , 0.94065595,\n",
              "         0.5891403 ],\n",
              "        [0.9858856 , 0.84274065, 0.5400373 , ..., 0.58284545, 0.67158866,\n",
              "         0.77263474],\n",
              "        [0.25059736, 0.48422086, 0.7355219 , ..., 0.21496081, 0.5261078 ,\n",
              "         0.21974587]], dtype=float32)>)"
            ]
          },
          "metadata": {},
          "execution_count": 26
        }
      ]
    },
    {
      "cell_type": "markdown",
      "source": [
        "## 4. Multiply the two tensors you created in 3 using matrix multiplication."
      ],
      "metadata": {
        "id": "GfiC8_fmb5hy"
      }
    },
    {
      "cell_type": "code",
      "source": [
        "tf.matmul(first_tensor, tf.reshape(second_tensor, shape=(300, 50)))"
      ],
      "metadata": {
        "colab": {
          "base_uri": "https://localhost:8080/"
        },
        "id": "y7RcHKWydeDh",
        "outputId": "edc45298-ea3a-40de-ff0f-0d37ab8cdf5b"
      },
      "execution_count": 28,
      "outputs": [
        {
          "output_type": "execute_result",
          "data": {
            "text/plain": [
              "<tf.Tensor: shape=(50, 50), dtype=float32, numpy=\n",
              "array([[72.467834, 72.796875, 74.23915 , ..., 75.80961 , 78.640396,\n",
              "        73.099304],\n",
              "       [71.958206, 69.0612  , 73.66878 , ..., 71.48905 , 72.50463 ,\n",
              "        67.963455],\n",
              "       [75.19321 , 72.49446 , 74.95793 , ..., 76.25321 , 79.935715,\n",
              "        72.98065 ],\n",
              "       ...,\n",
              "       [70.70889 , 69.558235, 71.97703 , ..., 72.378555, 74.66792 ,\n",
              "        70.31729 ],\n",
              "       [77.708786, 73.83981 , 81.59365 , ..., 78.77956 , 79.79515 ,\n",
              "        77.95198 ],\n",
              "       [72.737274, 71.07864 , 72.29835 , ..., 73.45082 , 74.2505  ,\n",
              "        70.37079 ]], dtype=float32)>"
            ]
          },
          "metadata": {},
          "execution_count": 28
        }
      ]
    },
    {
      "cell_type": "markdown",
      "source": [
        "## 5. Multiply the two tensors you created in 3 using dot product."
      ],
      "metadata": {
        "id": "-gdMKVWBeKsB"
      }
    },
    {
      "cell_type": "code",
      "source": [
        "tf.tensordot(first_tensor, tf.reshape(second_tensor, shape=(300, 50)), axes=1)"
      ],
      "metadata": {
        "colab": {
          "base_uri": "https://localhost:8080/"
        },
        "id": "P5IkJ_5be0hS",
        "outputId": "ebd3b668-9700-4f88-a40d-5b979330f132"
      },
      "execution_count": 29,
      "outputs": [
        {
          "output_type": "execute_result",
          "data": {
            "text/plain": [
              "<tf.Tensor: shape=(50, 50), dtype=float32, numpy=\n",
              "array([[72.467834, 72.796875, 74.23915 , ..., 75.80961 , 78.640396,\n",
              "        73.099304],\n",
              "       [71.958206, 69.0612  , 73.66878 , ..., 71.48905 , 72.50463 ,\n",
              "        67.963455],\n",
              "       [75.19321 , 72.49446 , 74.95793 , ..., 76.25321 , 79.935715,\n",
              "        72.98065 ],\n",
              "       ...,\n",
              "       [70.70889 , 69.558235, 71.97703 , ..., 72.378555, 74.66792 ,\n",
              "        70.31729 ],\n",
              "       [77.708786, 73.83981 , 81.59365 , ..., 78.77956 , 79.79515 ,\n",
              "        77.95198 ],\n",
              "       [72.737274, 71.07864 , 72.29835 , ..., 73.45082 , 74.2505  ,\n",
              "        70.37079 ]], dtype=float32)>"
            ]
          },
          "metadata": {},
          "execution_count": 29
        }
      ]
    },
    {
      "cell_type": "markdown",
      "source": [
        "## 6. Create a tensor with random values between 0 and 1 with shape [224, 224, 3]."
      ],
      "metadata": {
        "id": "KjZvCiprfI2z"
      }
    },
    {
      "cell_type": "code",
      "source": [
        "tf.random.set_seed(51)\n",
        "random_tensor = tf.random.uniform(shape=[224, 224, 3], minval=0, maxval=1, seed=13)"
      ],
      "metadata": {
        "id": "2YEISnD0fuA-"
      },
      "execution_count": 30,
      "outputs": []
    },
    {
      "cell_type": "code",
      "source": [
        "random_tensor"
      ],
      "metadata": {
        "colab": {
          "base_uri": "https://localhost:8080/"
        },
        "id": "Fmlu6o-wgIQq",
        "outputId": "a5f6a5a1-f9bb-432b-a0ee-d4967c51150a"
      },
      "execution_count": 31,
      "outputs": [
        {
          "output_type": "execute_result",
          "data": {
            "text/plain": [
              "<tf.Tensor: shape=(224, 224, 3), dtype=float32, numpy=\n",
              "array([[[0.04156268, 0.3480116 , 0.8167057 ],\n",
              "        [0.24721384, 0.98169184, 0.35626018],\n",
              "        [0.64160633, 0.75865674, 0.7032962 ],\n",
              "        ...,\n",
              "        [0.03502715, 0.99893713, 0.42883444],\n",
              "        [0.229334  , 0.09627306, 0.31313884],\n",
              "        [0.4846021 , 0.19260979, 0.7629881 ]],\n",
              "\n",
              "       [[0.7917433 , 0.41008782, 0.39916193],\n",
              "        [0.3082255 , 0.75269496, 0.02768266],\n",
              "        [0.596498  , 0.637604  , 0.8569704 ],\n",
              "        ...,\n",
              "        [0.40223408, 0.53820646, 0.45503747],\n",
              "        [0.24374235, 0.11702514, 0.7617402 ],\n",
              "        [0.6250464 , 0.26121604, 0.57877254]],\n",
              "\n",
              "       [[0.25713062, 0.577261  , 0.6770421 ],\n",
              "        [0.10421407, 0.73274314, 0.96052647],\n",
              "        [0.18635452, 0.7441082 , 0.73379564],\n",
              "        ...,\n",
              "        [0.87550974, 0.10845113, 0.53153265],\n",
              "        [0.5900421 , 0.6527778 , 0.23440838],\n",
              "        [0.4232334 , 0.7086215 , 0.5221095 ]],\n",
              "\n",
              "       ...,\n",
              "\n",
              "       [[0.00545514, 0.98632884, 0.0883528 ],\n",
              "        [0.8467983 , 0.5374248 , 0.59635794],\n",
              "        [0.40884316, 0.66841567, 0.5575385 ],\n",
              "        ...,\n",
              "        [0.64229286, 0.44606185, 0.34267676],\n",
              "        [0.3720417 , 0.07281673, 0.809374  ],\n",
              "        [0.5351728 , 0.46007526, 0.42416966]],\n",
              "\n",
              "       [[0.6977525 , 0.33579266, 0.19444036],\n",
              "        [0.3438326 , 0.983384  , 0.6570178 ],\n",
              "        [0.66905236, 0.9936309 , 0.42596614],\n",
              "        ...,\n",
              "        [0.85976624, 0.15319157, 0.21525466],\n",
              "        [0.7247759 , 0.17686808, 0.16723669],\n",
              "        [0.39073312, 0.87778604, 0.94491005]],\n",
              "\n",
              "       [[0.44561362, 0.42977536, 0.986766  ],\n",
              "        [0.91595757, 0.9890342 , 0.1822015 ],\n",
              "        [0.27940083, 0.55823064, 0.24471962],\n",
              "        ...,\n",
              "        [0.75922203, 0.5956925 , 0.6519381 ],\n",
              "        [0.7640152 , 0.602368  , 0.19043458],\n",
              "        [0.1598711 , 0.1562748 , 0.37384713]]], dtype=float32)>"
            ]
          },
          "metadata": {},
          "execution_count": 31
        }
      ]
    },
    {
      "cell_type": "markdown",
      "source": [
        "## 7. Find the min and max values of the tensor you created in 6 along the first axis."
      ],
      "metadata": {
        "id": "1PEu5acKgKfp"
      }
    },
    {
      "cell_type": "code",
      "source": [
        "print(f\"The maximum value of the tensor is: {tf.reduce_max(random_tensor)}\")\n",
        "print(f\"The minimum value of the tensor is: {tf.reduce_min(random_tensor)}\")"
      ],
      "metadata": {
        "colab": {
          "base_uri": "https://localhost:8080/"
        },
        "id": "YPJi9LATgbW6",
        "outputId": "76b16eb1-07f9-4e33-c971-c06c0cab2f4c"
      },
      "execution_count": 32,
      "outputs": [
        {
          "output_type": "stream",
          "name": "stdout",
          "text": [
            "The maximum value of the tensor is: 0.9999994039535522\n",
            "The minimum value of the tensor is: 6.4373016357421875e-06\n"
          ]
        }
      ]
    },
    {
      "cell_type": "markdown",
      "source": [
        "## 8. Created a tensor with random values of shape [1, 224, 224, 3] then squeeze it to change the shape to [224, 224, 3]."
      ],
      "metadata": {
        "id": "Cg6k6h07g4IL"
      }
    },
    {
      "cell_type": "code",
      "source": [
        "tf.random.set_seed(52)\n",
        "random2_tensor = tf.random.uniform(shape=[1, 224, 224, 3], seed= 52)"
      ],
      "metadata": {
        "id": "mR0RyXq7hIJ5"
      },
      "execution_count": 33,
      "outputs": []
    },
    {
      "cell_type": "code",
      "source": [
        "random2_tensor"
      ],
      "metadata": {
        "colab": {
          "base_uri": "https://localhost:8080/"
        },
        "id": "VFTKQOj2hhzC",
        "outputId": "152f36e4-feda-4e8f-9a68-73522c9e0e36"
      },
      "execution_count": 34,
      "outputs": [
        {
          "output_type": "execute_result",
          "data": {
            "text/plain": [
              "<tf.Tensor: shape=(1, 224, 224, 3), dtype=float32, numpy=\n",
              "array([[[[0.68165016, 0.82013154, 0.7818153 ],\n",
              "         [0.34372973, 0.14605904, 0.00669849],\n",
              "         [0.9987531 , 0.10300064, 0.5306015 ],\n",
              "         ...,\n",
              "         [0.32794833, 0.7119155 , 0.67597353],\n",
              "         [0.51198244, 0.16494977, 0.15637457],\n",
              "         [0.3547585 , 0.7891878 , 0.03853965]],\n",
              "\n",
              "        [[0.13987875, 0.78103673, 0.9334531 ],\n",
              "         [0.0314635 , 0.30832338, 0.45488298],\n",
              "         [0.4928398 , 0.21512175, 0.50047505],\n",
              "         ...,\n",
              "         [0.05172551, 0.21787763, 0.5016961 ],\n",
              "         [0.19670379, 0.02885377, 0.54004276],\n",
              "         [0.68002   , 0.7201747 , 0.14854395]],\n",
              "\n",
              "        [[0.9660691 , 0.919405  , 0.7854806 ],\n",
              "         [0.25211668, 0.07523513, 0.3744831 ],\n",
              "         [0.34071004, 0.0494523 , 0.7524533 ],\n",
              "         ...,\n",
              "         [0.6395328 , 0.5334829 , 0.77524614],\n",
              "         [0.04904115, 0.03726959, 0.69559   ],\n",
              "         [0.9525478 , 0.65405655, 0.17827833]],\n",
              "\n",
              "        ...,\n",
              "\n",
              "        [[0.19358313, 0.60503006, 0.40408015],\n",
              "         [0.10429299, 0.2882378 , 0.37692165],\n",
              "         [0.7157966 , 0.9706422 , 0.8454683 ],\n",
              "         ...,\n",
              "         [0.36341035, 0.4763602 , 0.8034446 ],\n",
              "         [0.04574966, 0.7814696 , 0.721442  ],\n",
              "         [0.9691874 , 0.48099875, 0.80834365]],\n",
              "\n",
              "        [[0.42834842, 0.6971011 , 0.07237458],\n",
              "         [0.43430495, 0.49707687, 0.23811698],\n",
              "         [0.11485898, 0.5722463 , 0.00735462],\n",
              "         ...,\n",
              "         [0.6165563 , 0.10780215, 0.6029787 ],\n",
              "         [0.779209  , 0.26772332, 0.75658655],\n",
              "         [0.6257049 , 0.5483663 , 0.19535351]],\n",
              "\n",
              "        [[0.11462307, 0.14751267, 0.5786507 ],\n",
              "         [0.572328  , 0.22559416, 0.4481306 ],\n",
              "         [0.08310854, 0.3514694 , 0.34807253],\n",
              "         ...,\n",
              "         [0.71227324, 0.11542952, 0.75855625],\n",
              "         [0.74729335, 0.49453568, 0.9548166 ],\n",
              "         [0.02691913, 0.56984186, 0.12436259]]]], dtype=float32)>"
            ]
          },
          "metadata": {},
          "execution_count": 34
        }
      ]
    },
    {
      "cell_type": "code",
      "source": [
        "random2_tensor.shape"
      ],
      "metadata": {
        "colab": {
          "base_uri": "https://localhost:8080/"
        },
        "id": "5qH8Picnhj_U",
        "outputId": "d7a6be85-b37d-48a6-9538-b784dbf73386"
      },
      "execution_count": 35,
      "outputs": [
        {
          "output_type": "execute_result",
          "data": {
            "text/plain": [
              "TensorShape([1, 224, 224, 3])"
            ]
          },
          "metadata": {},
          "execution_count": 35
        }
      ]
    },
    {
      "cell_type": "code",
      "source": [
        "random2_squeezed = tf.squeeze(random2_tensor)\n",
        "random2_squeezed"
      ],
      "metadata": {
        "colab": {
          "base_uri": "https://localhost:8080/"
        },
        "id": "AxhFvkmCh-bS",
        "outputId": "d1d86302-37ea-4220-8fa0-969b89a6b987"
      },
      "execution_count": 36,
      "outputs": [
        {
          "output_type": "execute_result",
          "data": {
            "text/plain": [
              "<tf.Tensor: shape=(224, 224, 3), dtype=float32, numpy=\n",
              "array([[[0.68165016, 0.82013154, 0.7818153 ],\n",
              "        [0.34372973, 0.14605904, 0.00669849],\n",
              "        [0.9987531 , 0.10300064, 0.5306015 ],\n",
              "        ...,\n",
              "        [0.32794833, 0.7119155 , 0.67597353],\n",
              "        [0.51198244, 0.16494977, 0.15637457],\n",
              "        [0.3547585 , 0.7891878 , 0.03853965]],\n",
              "\n",
              "       [[0.13987875, 0.78103673, 0.9334531 ],\n",
              "        [0.0314635 , 0.30832338, 0.45488298],\n",
              "        [0.4928398 , 0.21512175, 0.50047505],\n",
              "        ...,\n",
              "        [0.05172551, 0.21787763, 0.5016961 ],\n",
              "        [0.19670379, 0.02885377, 0.54004276],\n",
              "        [0.68002   , 0.7201747 , 0.14854395]],\n",
              "\n",
              "       [[0.9660691 , 0.919405  , 0.7854806 ],\n",
              "        [0.25211668, 0.07523513, 0.3744831 ],\n",
              "        [0.34071004, 0.0494523 , 0.7524533 ],\n",
              "        ...,\n",
              "        [0.6395328 , 0.5334829 , 0.77524614],\n",
              "        [0.04904115, 0.03726959, 0.69559   ],\n",
              "        [0.9525478 , 0.65405655, 0.17827833]],\n",
              "\n",
              "       ...,\n",
              "\n",
              "       [[0.19358313, 0.60503006, 0.40408015],\n",
              "        [0.10429299, 0.2882378 , 0.37692165],\n",
              "        [0.7157966 , 0.9706422 , 0.8454683 ],\n",
              "        ...,\n",
              "        [0.36341035, 0.4763602 , 0.8034446 ],\n",
              "        [0.04574966, 0.7814696 , 0.721442  ],\n",
              "        [0.9691874 , 0.48099875, 0.80834365]],\n",
              "\n",
              "       [[0.42834842, 0.6971011 , 0.07237458],\n",
              "        [0.43430495, 0.49707687, 0.23811698],\n",
              "        [0.11485898, 0.5722463 , 0.00735462],\n",
              "        ...,\n",
              "        [0.6165563 , 0.10780215, 0.6029787 ],\n",
              "        [0.779209  , 0.26772332, 0.75658655],\n",
              "        [0.6257049 , 0.5483663 , 0.19535351]],\n",
              "\n",
              "       [[0.11462307, 0.14751267, 0.5786507 ],\n",
              "        [0.572328  , 0.22559416, 0.4481306 ],\n",
              "        [0.08310854, 0.3514694 , 0.34807253],\n",
              "        ...,\n",
              "        [0.71227324, 0.11542952, 0.75855625],\n",
              "        [0.74729335, 0.49453568, 0.9548166 ],\n",
              "        [0.02691913, 0.56984186, 0.12436259]]], dtype=float32)>"
            ]
          },
          "metadata": {},
          "execution_count": 36
        }
      ]
    },
    {
      "cell_type": "code",
      "source": [
        "random2_squeezed.shape"
      ],
      "metadata": {
        "colab": {
          "base_uri": "https://localhost:8080/"
        },
        "id": "bI3ELcREiSbM",
        "outputId": "1717a944-fa54-486f-e98f-a1cb8ccb8998"
      },
      "execution_count": 37,
      "outputs": [
        {
          "output_type": "execute_result",
          "data": {
            "text/plain": [
              "TensorShape([224, 224, 3])"
            ]
          },
          "metadata": {},
          "execution_count": 37
        }
      ]
    },
    {
      "cell_type": "markdown",
      "source": [
        "## 9. Create a tensor with shape [10] using your own choice of values, then find the index which has the maximum value."
      ],
      "metadata": {
        "id": "LSzOsz8wiWAp"
      }
    },
    {
      "cell_type": "code",
      "source": [
        "tensor_10 = tf.constant([2, 3, 5, 7, 11, 13, 17, 19, 23, 29])"
      ],
      "metadata": {
        "id": "hE8eNZlkibvT"
      },
      "execution_count": 39,
      "outputs": []
    },
    {
      "cell_type": "code",
      "source": [
        "tensor_10, tensor_10.shape"
      ],
      "metadata": {
        "colab": {
          "base_uri": "https://localhost:8080/"
        },
        "id": "J4qdMVx2jMNk",
        "outputId": "2fd1e68c-c503-42ac-abb1-e6a461f89e3b"
      },
      "execution_count": 40,
      "outputs": [
        {
          "output_type": "execute_result",
          "data": {
            "text/plain": [
              "(<tf.Tensor: shape=(10,), dtype=int32, numpy=array([ 2,  3,  5,  7, 11, 13, 17, 19, 23, 29], dtype=int32)>,\n",
              " TensorShape([10]))"
            ]
          },
          "metadata": {},
          "execution_count": 40
        }
      ]
    },
    {
      "cell_type": "code",
      "source": [
        "print(f\"The maximum value index: {tf.argmax(tensor_10)}\\nThe maximum value: {tensor_10[tf.argmax(tensor_10)]}\")"
      ],
      "metadata": {
        "colab": {
          "base_uri": "https://localhost:8080/"
        },
        "id": "bpX9KrGIjSur",
        "outputId": "27d75865-d417-43e4-ba0d-8bae99948ee3"
      },
      "execution_count": 42,
      "outputs": [
        {
          "output_type": "stream",
          "name": "stdout",
          "text": [
            "The maximum value index: 9\n",
            "The maximum value: 29\n"
          ]
        }
      ]
    },
    {
      "cell_type": "code",
      "source": [
        "print(f\"The minimum value index: {tf.argmin(tensor_10)}\\nThe minimum value: {tensor_10[tf.argmin(tensor_10)]}\")"
      ],
      "metadata": {
        "colab": {
          "base_uri": "https://localhost:8080/"
        },
        "id": "nVU6Z6nfkHyD",
        "outputId": "8bb3bce9-e49b-4a9b-970b-9fddee5770fa"
      },
      "execution_count": 43,
      "outputs": [
        {
          "output_type": "stream",
          "name": "stdout",
          "text": [
            "The minimum value index: 0\n",
            "The minimum value: 2\n"
          ]
        }
      ]
    },
    {
      "cell_type": "code",
      "source": [
        ""
      ],
      "metadata": {
        "id": "nF4x0weGkTIS"
      },
      "execution_count": null,
      "outputs": []
    }
  ]
}