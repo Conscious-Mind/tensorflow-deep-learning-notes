{
  "nbformat": 4,
  "nbformat_minor": 0,
  "metadata": {
    "colab": {
      "name": "01-tensorflow-fundamentals-exercise.ipynb",
      "provenance": [],
      "collapsed_sections": [],
      "authorship_tag": "ABX9TyMgCRW2zSL8rTtyEkF8N0iL",
      "include_colab_link": true
    },
    "kernelspec": {
      "name": "python3",
      "display_name": "Python 3"
    },
    "language_info": {
      "name": "python"
    }
  },
  "cells": [
    {
      "cell_type": "markdown",
      "metadata": {
        "id": "view-in-github",
        "colab_type": "text"
      },
      "source": [
        "<a href=\"https://colab.research.google.com/github/Conscious-Mind/tensorflow-deep-learning-notes/blob/main/01_tensorflow_fundamentals_exercise.ipynb\" target=\"_parent\"><img src=\"https://colab.research.google.com/assets/colab-badge.svg\" alt=\"Open In Colab\"/></a>"
      ]
    },
    {
      "cell_type": "markdown",
      "source": [
        "# 🛠 Exercises"
      ],
      "metadata": {
        "id": "1-WtyujULsY0"
      }
    },
    {
      "cell_type": "markdown",
      "source": [
        "1. Create a vector, scalar, matrix and tensor with values of your choosing using tf.constant()."
      ],
      "metadata": {
        "id": "YtY07ltgNny6"
      }
    },
    {
      "cell_type": "code",
      "source": [
        "import tensorflow as tf"
      ],
      "metadata": {
        "id": "EYq08JkuOHSI"
      },
      "execution_count": null,
      "outputs": []
    },
    {
      "cell_type": "code",
      "source": [
        "scalar_a = tf.constant(11)"
      ],
      "metadata": {
        "id": "-EmqAoQ1NulC"
      },
      "execution_count": null,
      "outputs": []
    },
    {
      "cell_type": "code",
      "source": [
        "vector_a = tf.constant([12, 13]) "
      ],
      "metadata": {
        "id": "yY3cdhMVOPcI"
      },
      "execution_count": null,
      "outputs": []
    },
    {
      "cell_type": "code",
      "source": [
        "matrix_a = tf.constant([[15, 16],\n",
        "                        [17,18]])"
      ],
      "metadata": {
        "id": "Fvtt46TVOYlI"
      },
      "execution_count": null,
      "outputs": []
    },
    {
      "cell_type": "code",
      "source": [
        "tensor_a = tf.constant([[[21, 22, 23],\n",
        "                         [24, 25, 26],\n",
        "                         [27, 28, 29]]])"
      ],
      "metadata": {
        "id": "pFhJ6-qoOnpQ"
      },
      "execution_count": null,
      "outputs": []
    },
    {
      "cell_type": "markdown",
      "source": [
        "2. Find the shape, rank and size of the tensors you created in 1."
      ],
      "metadata": {
        "id": "96l9Q5iKO8q4"
      }
    },
    {
      "cell_type": "code",
      "source": [
        "scalar_a.shape, tf.size(scalar_a)"
      ],
      "metadata": {
        "colab": {
          "base_uri": "https://localhost:8080/"
        },
        "id": "p743TypSUo05",
        "outputId": "bd732395-25ba-4a4a-8bee-21477ec93e80"
      },
      "execution_count": null,
      "outputs": [
        {
          "output_type": "execute_result",
          "data": {
            "text/plain": [
              "(TensorShape([]), <tf.Tensor: shape=(), dtype=int32, numpy=1>)"
            ]
          },
          "metadata": {},
          "execution_count": 13
        }
      ]
    },
    {
      "cell_type": "code",
      "source": [
        ""
      ],
      "metadata": {
        "id": "1MALJSzKU5zA"
      },
      "execution_count": null,
      "outputs": []
    }
  ]
}